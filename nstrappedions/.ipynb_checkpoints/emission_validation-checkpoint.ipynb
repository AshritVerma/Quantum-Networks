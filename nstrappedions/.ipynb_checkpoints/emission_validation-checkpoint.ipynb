{
 "cells": [
  {
   "cell_type": "code",
   "execution_count": 9,
   "metadata": {},
   "outputs": [
    {
     "name": "stdout",
     "output_type": "stream",
     "text": [
      "importing Jupyter notebook from NoiseModels.ipynb\n"
     ]
    }
   ],
   "source": [
    "import import_ipynb\n",
    "import netsquid as ns\n",
    "import numpy as np\n",
    "import math\n",
    "import matplotlib.pyplot as plt\n",
    "from netsquid.components import QuantumChannel\n",
    "from netsquid.components.models.qerrormodels import FibreLossModel\n",
    "from IonTrap import IonTrap\n",
    "from programs import emit_prog\n",
    "from NoiseModels import CollectiveDephasingNoiseModel"
   ]
  },
  {
   "cell_type": "code",
   "execution_count": 10,
   "metadata": {},
   "outputs": [],
   "source": [
    "\"\"\"Validate that emission success probability from an ion trap is as expected.\"\"\"\n",
    "\n",
    "\n",
    "def setup(collection_efficiency, fiber_length, attenuation):\n",
    "\n",
    "    ion_trap = IonTrap(num_positions=1, collection_efficiency=collection_efficiency)\n",
    "\n",
    "    loss_model = FibreLossModel(p_loss_length=attenuation, p_loss_init=0)\n",
    "    fiber = QuantumChannel(name=\"fiber\", length=fiber_length,\n",
    "                           models={\"quantum_loss_model\": loss_model},\n",
    "                           transmit_empty_items=True)\n",
    "    fiber.ports[\"send\"].connect(ion_trap.ports[\"qout\"])\n",
    "    collection_port = fiber.ports[\"recv\"]\n",
    "\n",
    "    # collection_port = ion_trap.ports[\"qout\"]\n",
    "\n",
    "    return ion_trap, collection_port"
   ]
  },
  {
   "cell_type": "code",
   "execution_count": 11,
   "metadata": {},
   "outputs": [
    {
     "ename": "NameError",
     "evalue": "name 'CollectiveDephasingNoiseModel' is not defined",
     "output_type": "error",
     "traceback": [
      "\u001b[0;31m---------------------------------------------------------------------------\u001b[0m",
      "\u001b[0;31mNameError\u001b[0m                                 Traceback (most recent call last)",
      "\u001b[0;32m<ipython-input-11-c2b0c193e85e>\u001b[0m in \u001b[0;36m<module>\u001b[0;34m\u001b[0m\n\u001b[1;32m     19\u001b[0m     ion_trap, collection_port = setup(collection_efficiency=collection_efficiency,\n\u001b[1;32m     20\u001b[0m                                       \u001b[0mfiber_length\u001b[0m\u001b[0;34m=\u001b[0m\u001b[0mfiber_length\u001b[0m\u001b[0;34m,\u001b[0m\u001b[0;34m\u001b[0m\u001b[0;34m\u001b[0m\u001b[0m\n\u001b[0;32m---> 21\u001b[0;31m                                       attenuation=attenuation)\n\u001b[0m\u001b[1;32m     22\u001b[0m     \u001b[0mfail_count\u001b[0m \u001b[0;34m=\u001b[0m \u001b[0;36m0\u001b[0m\u001b[0;34m\u001b[0m\u001b[0;34m\u001b[0m\u001b[0m\n\u001b[1;32m     23\u001b[0m     \u001b[0mnum_tries\u001b[0m \u001b[0;34m=\u001b[0m \u001b[0;36m500\u001b[0m\u001b[0;34m\u001b[0m\u001b[0;34m\u001b[0m\u001b[0m\n",
      "\u001b[0;32m<ipython-input-10-3f515eb252c3>\u001b[0m in \u001b[0;36msetup\u001b[0;34m(collection_efficiency, fiber_length, attenuation)\u001b[0m\n\u001b[1;32m      4\u001b[0m \u001b[0;32mdef\u001b[0m \u001b[0msetup\u001b[0m\u001b[0;34m(\u001b[0m\u001b[0mcollection_efficiency\u001b[0m\u001b[0;34m,\u001b[0m \u001b[0mfiber_length\u001b[0m\u001b[0;34m,\u001b[0m \u001b[0mattenuation\u001b[0m\u001b[0;34m)\u001b[0m\u001b[0;34m:\u001b[0m\u001b[0;34m\u001b[0m\u001b[0;34m\u001b[0m\u001b[0m\n\u001b[1;32m      5\u001b[0m \u001b[0;34m\u001b[0m\u001b[0m\n\u001b[0;32m----> 6\u001b[0;31m     \u001b[0mion_trap\u001b[0m \u001b[0;34m=\u001b[0m \u001b[0mIonTrap\u001b[0m\u001b[0;34m(\u001b[0m\u001b[0mnum_positions\u001b[0m\u001b[0;34m=\u001b[0m\u001b[0;36m1\u001b[0m\u001b[0;34m,\u001b[0m \u001b[0mcollection_efficiency\u001b[0m\u001b[0;34m=\u001b[0m\u001b[0mcollection_efficiency\u001b[0m\u001b[0;34m)\u001b[0m\u001b[0;34m\u001b[0m\u001b[0;34m\u001b[0m\u001b[0m\n\u001b[0m\u001b[1;32m      7\u001b[0m \u001b[0;34m\u001b[0m\u001b[0m\n\u001b[1;32m      8\u001b[0m     \u001b[0mloss_model\u001b[0m \u001b[0;34m=\u001b[0m \u001b[0mFibreLossModel\u001b[0m\u001b[0;34m(\u001b[0m\u001b[0mp_loss_length\u001b[0m\u001b[0;34m=\u001b[0m\u001b[0mattenuation\u001b[0m\u001b[0;34m,\u001b[0m \u001b[0mp_loss_init\u001b[0m\u001b[0;34m=\u001b[0m\u001b[0;36m0\u001b[0m\u001b[0;34m)\u001b[0m\u001b[0;34m\u001b[0m\u001b[0;34m\u001b[0m\u001b[0m\n",
      "\u001b[0;32m~/netsquid-simulation/nstrappedions/ion_trap.ipynb\u001b[0m in \u001b[0;36m__init__\u001b[0;34m(self, num_positions, coherence_time, prob_error_0, prob_error_1, init_depolar_prob, rot_z_depolar_prob, multi_qubit_xy_rotation_depolar_prob, ms_depolar_prob, emission_fidelity, collection_efficiency, emission_duration, measurement_duration, initialization_duration, z_rotation_duration, ms_pi_over_2_duration, multi_qubit_xy_rotation_duration, ms_optimization_angle)\u001b[0m\n",
      "\u001b[0;31mNameError\u001b[0m: name 'CollectiveDephasingNoiseModel' is not defined"
     ]
    }
   ],
   "source": [
    "\n",
    "# ns.logger.setLevel(logging.DEBUG)\n",
    "\n",
    "# x = np.arange(0.1, 1, 0.1)\n",
    "# xstring = \"collection efficiency\"\n",
    "\n",
    "x = range(1, 10)\n",
    "xstring = \"fiber length\"\n",
    "\n",
    "collection_efficiency = 1\n",
    "fiber_length = 1\n",
    "attenuation = 0.25\n",
    "\n",
    "success_probs = []\n",
    "success_prob_errors = []\n",
    "expected_success_probs = []\n",
    "\n",
    "for fiber_length in x:\n",
    "\n",
    "    ion_trap, collection_port = setup(collection_efficiency=collection_efficiency,\n",
    "                                      fiber_length=fiber_length,\n",
    "                                      attenuation=attenuation)\n",
    "    fail_count = 0\n",
    "    num_tries = 500\n",
    "    outcomes = []\n",
    "    for _ in range(num_tries):\n",
    "        ion_trap.execute_program(emit_prog)\n",
    "        ns.sim_run()\n",
    "        emitted_message = collection_port.rx_output()\n",
    "        emitted_qubit = emitted_message.items[0]\n",
    "        if emitted_qubit is None:\n",
    "            outcomes.append(0)\n",
    "        else:\n",
    "            if emitted_qubit.qstate is None:\n",
    "                outcomes.append(0)\n",
    "            else:\n",
    "                outcomes.append(1)\n",
    "\n",
    "    success_prob = np.mean(outcomes)\n",
    "    success_probs.append(success_prob)\n",
    "    success_prob_error = np.std(outcomes) / math.sqrt(len(outcomes))\n",
    "    success_prob_errors.append(success_prob_error)\n",
    "    expected_success_prob = collection_efficiency * np.power(10, - attenuation * fiber_length / 10)\n",
    "    expected_success_probs.append(expected_success_prob)"
   ]
  },
  {
   "cell_type": "code",
   "execution_count": null,
   "metadata": {},
   "outputs": [],
   "source": [
    "plt.figure()\n",
    "plt.errorbar(x, y=success_probs, yerr=success_prob_errors, label=\"measured\")\n",
    "plt.plot(x, expected_success_probs, label=\"expected\")\n",
    "plt.xlabel(xstring)\n",
    "plt.ylabel(\"success probability)\")\n",
    "plt.legend()\n",
    "plt.show()"
   ]
  }
 ],
 "metadata": {
  "kernelspec": {
   "display_name": "Python 3",
   "language": "python",
   "name": "python3"
  },
  "language_info": {
   "codemirror_mode": {
    "name": "ipython",
    "version": 3
   },
   "file_extension": ".py",
   "mimetype": "text/x-python",
   "name": "python",
   "nbconvert_exporter": "python",
   "pygments_lexer": "ipython3",
   "version": "3.6.9"
  }
 },
 "nbformat": 4,
 "nbformat_minor": 2
}
