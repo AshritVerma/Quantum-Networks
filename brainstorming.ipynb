{
 "cells": [
  {
   "cell_type": "code",
   "execution_count": 4,
   "id": "48cc4474",
   "metadata": {},
   "outputs": [],
   "source": [
    "import numpy as np"
   ]
  },
  {
   "cell_type": "code",
   "execution_count": 5,
   "id": "85e242cf",
   "metadata": {},
   "outputs": [],
   "source": [
    "depolar_rates = [1e6 * i for i in range(0, 200, 10)]"
   ]
  },
  {
   "cell_type": "code",
   "execution_count": 6,
   "id": "71868c5c",
   "metadata": {},
   "outputs": [
    {
     "name": "stdout",
     "output_type": "stream",
     "text": [
      "[0.0, 10000000.0, 20000000.0, 30000000.0, 40000000.0, 50000000.0, 60000000.0, 70000000.0, 80000000.0, 90000000.0, 100000000.0, 110000000.0, 120000000.0, 130000000.0, 140000000.0, 150000000.0, 160000000.0, 170000000.0, 180000000.0, 190000000.0]\n"
     ]
    }
   ],
   "source": [
    "print(depolar_rates)"
   ]
  },
  {
   "cell_type": "code",
   "execution_count": 12,
   "id": "acf1376a",
   "metadata": {},
   "outputs": [
    {
     "data": {
      "text/plain": [
       "array([0.0e+00, 1.0e+07, 2.0e+07, 3.0e+07, 4.0e+07, 5.0e+07, 6.0e+07,\n",
       "       7.0e+07, 8.0e+07, 9.0e+07, 1.0e+08, 1.1e+08, 1.2e+08, 1.3e+08,\n",
       "       1.4e+08, 1.5e+08, 1.6e+08, 1.7e+08, 1.8e+08, 1.9e+08])"
      ]
     },
     "execution_count": 12,
     "metadata": {},
     "output_type": "execute_result"
    }
   ],
   "source": [
    "depolar_rates = np.array([1e6 * i for i in range(0, 200, 10)])\n",
    "depolar_rates"
   ]
  },
  {
   "cell_type": "code",
   "execution_count": 13,
   "id": "fdf8e73e",
   "metadata": {},
   "outputs": [
    {
     "name": "stderr",
     "output_type": "stream",
     "text": [
      "/var/folders/l7/fs0hpyl97bq9j90hp_4t90l80000gn/T/ipykernel_8683/3741756359.py:1: RuntimeWarning: divide by zero encountered in true_divide\n",
      "  np.array(1/depolar_rates)\n"
     ]
    },
    {
     "data": {
      "text/plain": [
       "array([           inf, 1.00000000e-07, 5.00000000e-08, 3.33333333e-08,\n",
       "       2.50000000e-08, 2.00000000e-08, 1.66666667e-08, 1.42857143e-08,\n",
       "       1.25000000e-08, 1.11111111e-08, 1.00000000e-08, 9.09090909e-09,\n",
       "       8.33333333e-09, 7.69230769e-09, 7.14285714e-09, 6.66666667e-09,\n",
       "       6.25000000e-09, 5.88235294e-09, 5.55555556e-09, 5.26315789e-09])"
      ]
     },
     "execution_count": 13,
     "metadata": {},
     "output_type": "execute_result"
    }
   ],
   "source": [
    "np.array(1/depolar_rates)"
   ]
  },
  {
   "cell_type": "code",
   "execution_count": null,
   "id": "229790e2",
   "metadata": {},
   "outputs": [],
   "source": []
  }
 ],
 "metadata": {
  "kernelspec": {
   "display_name": "Python 3 (ipykernel)",
   "language": "python",
   "name": "python3"
  },
  "language_info": {
   "codemirror_mode": {
    "name": "ipython",
    "version": 3
   },
   "file_extension": ".py",
   "mimetype": "text/x-python",
   "name": "python",
   "nbconvert_exporter": "python",
   "pygments_lexer": "ipython3",
   "version": "3.8.13"
  }
 },
 "nbformat": 4,
 "nbformat_minor": 5
}
