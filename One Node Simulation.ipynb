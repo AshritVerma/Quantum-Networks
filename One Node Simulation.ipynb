{
 "cells": [
  {
   "cell_type": "code",
   "execution_count": 36,
   "id": "2bdf64cc",
   "metadata": {},
   "outputs": [],
   "source": [
    "import sys\n",
    "import os\n",
    "import netsquid as ns\n",
    "import pydynaa\n",
    "import pandas\n",
    "import numpy as np"
   ]
  },
  {
   "cell_type": "code",
   "execution_count": 37,
   "id": "be44fb74",
   "metadata": {},
   "outputs": [],
   "source": [
    "from netsquid.nodes import Node, Connection, Network\n",
    "\n",
    "from netsquid.protocols import Protocol, NodeProtocol, Signals\n",
    "\n",
    "from netsquid.util.datacollector import DataCollector\n",
    "\n",
    "import netsquid.qubits.ketstates as ks\n",
    "\n",
    "from netsquid.examples.teleportation import example_network_setup\n",
    "from netsquid.qubits import qubitapi as qapi\n",
    "from netsquid.qubits import StateSampler\n",
    "\n",
    "from netsquid.components import ClassicalChannel, QuantumChannel, QuantumProgram, QuantumProcessor\n",
    "from netsquid.components.qsource import QSource, SourceStatus\n",
    "from netsquid.components.models import DelayModel, FixedDelayModel, FibreDelayModel, DephaseNoiseModel, DepolarNoiseModel\n",
    "from netsquid.components.qprocessor import QuantumProcessor, PhysicalInstruction\n",
    "import netsquid.components.instructions as instr"
   ]
  },
  {
   "cell_type": "code",
   "execution_count": 56,
   "id": "680cf2f6",
   "metadata": {
    "scrolled": true
   },
   "outputs": [],
   "source": [
    "import import_ipynb\n",
    "from nstrappedions.Instructions import IonTrapMSGate"
   ]
  },
  {
   "cell_type": "code",
   "execution_count": 57,
   "id": "bef14ec4",
   "metadata": {},
   "outputs": [
    {
     "data": {
      "text/plain": [
       "Instruction: ms_gate_theta=0.5_pi"
      ]
     },
     "execution_count": 57,
     "metadata": {},
     "output_type": "execute_result"
    }
   ],
   "source": [
    "# test if instructions was manually imported correctly\n",
    "IonTrapMSGate(2)"
   ]
  },
  {
   "cell_type": "code",
   "execution_count": null,
   "id": "68770580",
   "metadata": {},
   "outputs": [],
   "source": []
  },
  {
   "cell_type": "code",
   "execution_count": null,
   "id": "a574b8e0",
   "metadata": {},
   "outputs": [],
   "source": []
  },
  {
   "cell_type": "code",
   "execution_count": 6,
   "id": "ba8f5201",
   "metadata": {},
   "outputs": [],
   "source": [
    "# show figure when running full simulation\n",
    "\n",
    "def create_plot():\n",
    "    \"\"\"Show a plot of fidelity verus depolarization rate.\n",
    "\n",
    "    \"\"\"\n",
    "    from matplotlib import pyplot as plt\n",
    "    dephase_rates = np.array([1e6 * i for i in range(0, 200, 10)])\n",
    "    #coherence_times = 1/dephase_rates\n",
    "    fidelities = run_experiment(num_runs=1000, distance=4e-3,\n",
    "                                depolar_rates=0, dephase_rate=dephase_rates)\n",
    "    plot_style = {'kind': 'scatter', 'grid': True,\n",
    "                  'title': \"Fidelity of the teleported quantum state\"}\n",
    "    data = fidelities.groupby(\"depolar_rate\")['fidelity'].agg(\n",
    "        fidelity='mean', sem='sem').reset_index()\n",
    "    data.plot(x='depolar_rate', y='fidelity', yerr='sem', **plot_style)\n",
    "    plt.show()"
   ]
  },
  {
   "cell_type": "code",
   "execution_count": null,
   "id": "b0629933",
   "metadata": {},
   "outputs": [],
   "source": []
  }
 ],
 "metadata": {
  "kernelspec": {
   "display_name": "Python 3",
   "language": "python",
   "name": "python3"
  },
  "language_info": {
   "codemirror_mode": {
    "name": "ipython",
    "version": 3
   },
   "file_extension": ".py",
   "mimetype": "text/x-python",
   "name": "python",
   "nbconvert_exporter": "python",
   "pygments_lexer": "ipython3",
   "version": "3.6.9"
  }
 },
 "nbformat": 4,
 "nbformat_minor": 5
}
